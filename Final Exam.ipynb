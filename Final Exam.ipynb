{
    "cells": [
        {
            "cell_type": "code",
            "execution_count": 1,
            "metadata": {},
            "outputs": [],
            "source": "# Consider the string A='1234567', what is the result of the following operation: A[1::2]?\nA='1234567'"
        },
        {
            "cell_type": "code",
            "execution_count": 32,
            "metadata": {},
            "outputs": [
                {
                    "data": {
                        "text/plain": "7"
                    },
                    "execution_count": 32,
                    "metadata": {},
                    "output_type": "execute_result"
                }
            ],
            "source": "# What is the result of the following operation 3+2*2?\n3+2*2"
        },
        {
            "cell_type": "code",
            "execution_count": 2,
            "metadata": {},
            "outputs": [
                {
                    "data": {
                        "text/plain": "'246'"
                    },
                    "execution_count": 2,
                    "metadata": {},
                    "output_type": "execute_result"
                }
            ],
            "source": "A[1::2]"
        },
        {
            "cell_type": "code",
            "execution_count": 33,
            "metadata": {},
            "outputs": [
                {
                    "data": {
                        "text/plain": "3"
                    },
                    "execution_count": 33,
                    "metadata": {},
                    "output_type": "execute_result"
                }
            ],
            "source": "# What is the result of the following operation int(3.2)?\nint(3.2)"
        },
        {
            "cell_type": "code",
            "execution_count": 36,
            "metadata": {},
            "outputs": [
                {
                    "data": {
                        "text/plain": "5"
                    },
                    "execution_count": 36,
                    "metadata": {},
                    "output_type": "execute_result"
                }
            ],
            "source": "# Consider the string Name=\"Michael Jackson\" , what is the result of the following operation Name.find('el')?\nName=\"Michael Jackson\"\nName.find('el')"
        },
        {
            "cell_type": "code",
            "execution_count": 35,
            "metadata": {},
            "outputs": [
                {
                    "data": {
                        "text/plain": "'YOU ARE WRONG'"
                    },
                    "execution_count": 35,
                    "metadata": {},
                    "output_type": "execute_result"
                }
            ],
            "source": "# Consider the variable F=\"You are wrong\". Convert the values in the variable F to uppercase\nF=\"You are wrong\"\nF.upper()"
        },
        {
            "cell_type": "code",
            "execution_count": 38,
            "metadata": {},
            "outputs": [
                {
                    "data": {
                        "text/plain": "'C'"
                    },
                    "execution_count": 38,
                    "metadata": {},
                    "output_type": "execute_result"
                }
            ],
            "source": "# Consider the tuple tuple1=(\"A\",\"B\",\"C\" ), what is the result of the following operation tuple1[-1]?\ntuple1=(\"A\",\"B\",\"C\" )\ntuple1[-1]"
        },
        {
            "cell_type": "code",
            "execution_count": 7,
            "metadata": {},
            "outputs": [],
            "source": "# Consider the tuple A=((11,12),[21,22]), that contains a tuple and list.\nA=((11,12),[21,22])"
        },
        {
            "cell_type": "code",
            "execution_count": 10,
            "metadata": {},
            "outputs": [
                {
                    "data": {
                        "text/plain": "[21, 22]"
                    },
                    "execution_count": 10,
                    "metadata": {},
                    "output_type": "execute_result"
                }
            ],
            "source": "# What is the result of the following operation A[1]\nA[1]"
        },
        {
            "cell_type": "code",
            "execution_count": 9,
            "metadata": {},
            "outputs": [
                {
                    "data": {
                        "text/plain": "12"
                    },
                    "execution_count": 9,
                    "metadata": {},
                    "output_type": "execute_result"
                }
            ],
            "source": "# What is the result of the following operation A[0][1]\nA[0][1]"
        },
        {
            "cell_type": "code",
            "execution_count": 11,
            "metadata": {},
            "outputs": [
                {
                    "data": {
                        "text/plain": "['1', '2', '3', '4']"
                    },
                    "execution_count": 11,
                    "metadata": {},
                    "output_type": "execute_result"
                }
            ],
            "source": "# What is the result of the following operation '1,2,3,4'.split(',')?\n'1,2,3,4'.split(',')"
        },
        {
            "cell_type": "code",
            "execution_count": 12,
            "metadata": {},
            "outputs": [
                {
                    "data": {
                        "text/plain": "[1, 'a', 2, 1, 'd']"
                    },
                    "execution_count": 12,
                    "metadata": {},
                    "output_type": "execute_result"
                }
            ],
            "source": "# Concatenate the following lists A=[1,'a'] and B=[2,1,'d']\nA=[1,'a']\nB=[2,1,'d']\nA+B"
        },
        {
            "cell_type": "code",
            "execution_count": 39,
            "metadata": {},
            "outputs": [],
            "source": "# How do you cast the list 'A' to the set 'a'?\na = set(A)"
        },
        {
            "cell_type": "code",
            "execution_count": 40,
            "metadata": {},
            "outputs": [],
            "source": "# Consider the Set: V={'A','B'}, what is the result of V.add('C')?\nV={'A','B'}\nV.add('C')"
        },
        {
            "cell_type": "code",
            "execution_count": 41,
            "metadata": {},
            "outputs": [],
            "source": "# Consider the Set: V={'A','B','C' }, what is the result of V.add('C')?\nV.add('C')"
        },
        {
            "cell_type": "code",
            "execution_count": 16,
            "metadata": {},
            "outputs": [
                {
                    "name": "stdout",
                    "output_type": "stream",
                    "text": "Go \nMike\n"
                }
            ],
            "source": "# What is the output of the following lines of code?\nx=\"Go\"\n\nif(x!=\"Go\"):\n\n print('Stop')\n\nelse:\n\n print('Go ')\n\nprint('Mike')"
        },
        {
            "cell_type": "code",
            "execution_count": 17,
            "metadata": {},
            "outputs": [
                {
                    "name": "stdout",
                    "output_type": "stream",
                    "text": "Go\nMike\n"
                }
            ],
            "source": "# What is the output of the following lines of code?\nx=\"Go\"\nif(x == 'Go'):\n    print('Go')\nelse:\n    print('Stop')\nprint('Mike')    "
        },
        {
            "cell_type": "code",
            "execution_count": 19,
            "metadata": {},
            "outputs": [
                {
                    "name": "stdout",
                    "output_type": "stream",
                    "text": "0\n1\n2\n"
                }
            ],
            "source": "# How many iterations are performed in the following loop?\nfor n in range(3):\n\n print(n)"
        },
        {
            "cell_type": "code",
            "execution_count": 20,
            "metadata": {},
            "outputs": [
                {
                    "name": "stdout",
                    "output_type": "stream",
                    "text": "1\n2\n3\n"
                }
            ],
            "source": "# What does the following loop print?\n\nfor n in range(3):\n\n print(n+1)"
        },
        {
            "cell_type": "code",
            "execution_count": 21,
            "metadata": {},
            "outputs": [
                {
                    "name": "stdout",
                    "output_type": "stream",
                    "text": "11\n22\n33\n"
                }
            ],
            "source": "# What is the output of the following few lines of code ?\n\nA=['1','2','3']\n\nfor a in A:\n\n print(2*a)"
        },
        {
            "cell_type": "code",
            "execution_count": 23,
            "metadata": {},
            "outputs": [
                {
                    "data": {
                        "text/plain": "1"
                    },
                    "execution_count": 23,
                    "metadata": {},
                    "output_type": "execute_result"
                }
            ],
            "source": "# Consider the function add, what is the result of calling the following Add('1','1')?\ndef Add(x,y):\n\n z=y+x\n\n return(y)\nAdd(1,1)"
        },
        {
            "cell_type": "code",
            "execution_count": 26,
            "metadata": {},
            "outputs": [],
            "source": "# Consider the class Points, what are the data attributes?\nclass Points(object):\n\n def __init__(self,x,y):\n\n  self.x=x\n\n  self.y=y\n\n def print_point(self):\n\n  print('x=',self.x,'y=',self.y)"
        },
        {
            "cell_type": "code",
            "execution_count": 30,
            "metadata": {},
            "outputs": [
                {
                    "name": "stdout",
                    "output_type": "stream",
                    "text": "x= 1  y= 2\n"
                }
            ],
            "source": "# What is the result of running the following lines of code?\nclass Points(object):\n    def __init__(self,x,y):\n        self.x=x\n        self.y=y\n    def print_point(self):\n        print('x=',self.x,' y=',self.y)\n\np1=Points(1,2)\n\np1.print_point()"
        },
        {
            "cell_type": "code",
            "execution_count": 31,
            "metadata": {},
            "outputs": [
                {
                    "name": "stdout",
                    "output_type": "stream",
                    "text": "x= 2  y= 2\n"
                }
            ],
            "source": "# What is the result of running the following lines of code?\nclass Points(object):\n    def __init__(self,x,y):\n        self.x=x\n        self.y=y\n    def print_point(self):\n        print('x=',self.x,' y=',self.y)\n\np2=Points(1,2)\n\np2.x=2\n\np2.print_point()"
        },
        {
            "cell_type": "code",
            "execution_count": null,
            "metadata": {},
            "outputs": [],
            "source": ""
        }
    ],
    "metadata": {
        "kernelspec": {
            "display_name": "Python 3.7",
            "language": "python",
            "name": "python3"
        },
        "language_info": {
            "codemirror_mode": {
                "name": "ipython",
                "version": 3
            },
            "file_extension": ".py",
            "mimetype": "text/x-python",
            "name": "python",
            "nbconvert_exporter": "python",
            "pygments_lexer": "ipython3",
            "version": "3.7.9"
        }
    },
    "nbformat": 4,
    "nbformat_minor": 1
}